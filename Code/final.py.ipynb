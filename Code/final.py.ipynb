{
 "cells": [
  {
   "cell_type": "code",
   "execution_count": 1,
   "metadata": {
    "collapsed": true,
    "pycharm": {
     "name": "#%%",
     "is_executing": false
    }
   },
   "outputs": [],
   "source": [
    "import random\n",
    "\n",
    "def Randlist(start, end, num):\n",
    "\tres = []\n",
    "\n",
    "\tfor j in range(num):\n",
    "\t\tval=(random.uniform(start, end))\n",
    "\t#\tval=int(val)\n",
    "\t\tres.append(val)\n",
    "\n",
    "\tres.sort()\n",
    "\treturn res"
   ]
  },
  {
   "cell_type": "code",
   "execution_count": 2,
   "outputs": [
    {
     "name": "stdout",
     "text": [
      "\nInput :\n\n1 2 269 4701 \n\ndict_keys(['0', '1', '2', '4', '5', '6', '7', '8', '9'])\n"
     ],
     "output_type": "stream"
    }
   ],
   "source": [
    "text_file= open(\"sample.data\",\"r\")\n",
    "lines= text_file.readlines()\n",
    "undelted_lines= lines\n",
    "print(\"\\nInput :\\n\")\n",
    "print(lines[3])\n",
    "x = dict()\n",
    "for i in range(len(lines)):\n",
    "\tline1 = list(lines[i].split(\" \"))\n",
    "\tline1.pop()\n",
    "\tlength = int(line1[0])\n",
    "\tline1.pop(0)\n",
    "\tlst = []\n",
    "\n",
    "\tfor j in range(length):\n",
    "\t\tsizeoflistoftime= int(line1[0])\n",
    "\t\tline1.pop(0)\n",
    "\t\tlistoftime=Randlist(0,1000,1)\n",
    "\t\tfor k in range(sizeoflistoftime):\n",
    "\t\t\tline1.pop(0)\n",
    "\t\tlst.append(listoftime[0])\n",
    "\tlst.sort()\n",
    "\tx[i]=lst[:]\n",
    "\n",
    "x2 = dict()\n",
    "\n",
    "for i in range(len(undelted_lines)):\n",
    "\tline1 = list(undelted_lines[i].split(\" \"))\n",
    "\tline1.pop()\n",
    "\tlength = int(line1[0])\n",
    "\tline1.pop(0)\n",
    "\tlistoftime=[]\n",
    "\tfor j in range(length):\n",
    "\t\tsizeoflistoftime= int(line1[0])\n",
    "\t\tline1.pop(0)\n",
    "\t\ttemp=\"\"\n",
    "\t\tfor k in range(sizeoflistoftime):\n",
    "\t\t\ttemp=temp+line1[0].zfill(4)\n",
    "\t\t\tline1.pop(0)\n",
    "\t\tlistoftime.append(temp)\n",
    "\tx2[i]=listoftime\n",
    "\n",
    "database=dict()\n",
    "for i in x.keys():\n",
    "    if len(x[i])>1:\n",
    "        database[str(i)]=[]\n",
    "        for j in range(len(x[i])):\n",
    "            database[str(i)].append([x2[i][j],x[i][j]])\n",
    "        \n",
    "print(database.keys())\n",
    "    "
   ],
   "metadata": {
    "collapsed": false,
    "pycharm": {
     "name": "#%%s\n",
     "is_executing": false
    }
   }
  }
 ],
 "metadata": {
  "kernelspec": {
   "display_name": "Python 3",
   "language": "python",
   "name": "python3"
  },
  "language_info": {
   "codemirror_mode": {
    "name": "ipython",
    "version": 2
   },
   "file_extension": ".py",
   "mimetype": "text/x-python",
   "name": "python",
   "nbconvert_exporter": "python",
   "pygments_lexer": "ipython2",
   "version": "2.7.6"
  },
  "pycharm": {
   "stem_cell": {
    "cell_type": "raw",
    "source": [],
    "metadata": {
     "collapsed": false
    }
   }
  }
 },
 "nbformat": 4,
 "nbformat_minor": 0
}